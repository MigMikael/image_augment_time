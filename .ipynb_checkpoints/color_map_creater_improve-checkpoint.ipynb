{
 "cells": [
  {
   "cell_type": "code",
   "execution_count": 1,
   "metadata": {},
   "outputs": [],
   "source": [
    "images_dir = \"./Images/\"\n",
    "output_dir = \"./Images_ColorMap/\"\n",
    "color_map_path = \"./iPadtoMotoC_color_map.txt\"\n",
    "#feature_name = \"iPad\"\n",
    "\n",
    "#gpu_no = 0\n",
    "sum_augment_time = 0"
   ]
  },
  {
   "cell_type": "code",
   "execution_count": 2,
   "metadata": {},
   "outputs": [
    {
     "data": {
      "text/plain": [
       "'\\nisGPU = C.device.try_set_default_device(C.device.gpu(gpu_no))\\nif isGPU:\\n    print(\"Using GPU \", str(gpu_no))\\nelse:\\n    print(\"Using CPU\")'"
      ]
     },
     "execution_count": 2,
     "metadata": {},
     "output_type": "execute_result"
    }
   ],
   "source": [
    "#import cntk\n",
    "import numpy\n",
    "import cv2\n",
    "from matplotlib import pyplot as plt\n",
    "from PIL import Image\n",
    "import time\n",
    "import os\n",
    "#import cntk as C\n",
    "\n",
    "'''\n",
    "isGPU = C.device.try_set_default_device(C.device.gpu(gpu_no))\n",
    "if isGPU:\n",
    "    print(\"Using GPU \", str(gpu_no))\n",
    "else:\n",
    "    print(\"Using CPU\")'''"
   ]
  },
  {
   "cell_type": "code",
   "execution_count": 3,
   "metadata": {},
   "outputs": [],
   "source": [
    "def load_color_map(color_map_path):\n",
    "    start_time = time.time()\n",
    "    map_table = numpy.zeros([256, 256, 256, 3], numpy.uint8)\n",
    "    with open(color_map_path, \"r\") as map_file:\n",
    "        for line in map_file:\n",
    "            src, predict = line.split(\" | \")\n",
    "            [r0, g0, b0] = [int(x) for x in src.split(\" \")]\n",
    "            [r1, g1, b1] = [int(x) for x in predict.split(\" \")]\n",
    "            map_table[r0, g0, b0, :] = numpy.asarray([r1, g1, b1], numpy.uint8)\n",
    "    \n",
    "    map_table_creation_time = time.time() - start_time\n",
    "    print(\"--- %s seconds ---\" % (map_table_creation_time))\n",
    "    \n",
    "    return map_table"
   ]
  },
  {
   "cell_type": "code",
   "execution_count": 4,
   "metadata": {},
   "outputs": [],
   "source": [
    "def map_img(map_table, src_path, output_image_name):\n",
    "    src = cv2.imread(src_path)\n",
    "    rows = src.shape[0]\n",
    "    cols = src.shape[1]\n",
    "    dst = numpy.zeros([rows, cols, 3], numpy.uint8)\n",
    "    for r in range(rows):    \n",
    "        for c in range(cols):\n",
    "            src_color = src[r, c]\n",
    "            dst[r, c, :] = map_table[src_color[2], src_color[1], src_color[0], :]\n",
    "    dst = dst[...,::-1]\n",
    "    cv2.imwrite(output_image_name, dst)"
   ]
  },
  {
   "cell_type": "code",
   "execution_count": 5,
   "metadata": {},
   "outputs": [
    {
     "name": "stdout",
     "output_type": "stream",
     "text": [
      "--- 77.8960919380188 seconds ---\n",
      "[0 0 0]\n",
      "[200 191 204]\n"
     ]
    }
   ],
   "source": [
    "map_table = load_color_map(color_map_path)\n",
    "print(map_table[0, 0, 0, :])\n",
    "print(map_table[255, 255, 255, :])"
   ]
  },
  {
   "cell_type": "code",
   "execution_count": 6,
   "metadata": {},
   "outputs": [
    {
     "name": "stdout",
     "output_type": "stream",
     "text": [
      "Finish 0 : Arm(iPad)_resize.jpg at 2.008847236633301 sec\n",
      "\n",
      "--- 2.008847236633301 seconds ---\n",
      "\n",
      "Finish 1 : ATM(iPad)_resize.jpg at 4.101941823959351 sec\n",
      "\n",
      "--- 2.09309458732605 seconds ---\n",
      "\n",
      "Finish 2 : Book(iPad)_resize.jpg at 6.2026777267456055 sec\n",
      "\n",
      "--- 2.100735902786255 seconds ---\n",
      "\n",
      "Finish 3 : Bucket(iPad)_resize.jpg at 8.325640201568604 sec\n",
      "\n",
      "--- 2.122962474822998 seconds ---\n",
      "\n",
      "Finish 4 : Field(iPad)_resize.jpg at 10.407583236694336 sec\n",
      "\n",
      "--- 2.0819430351257324 seconds ---\n",
      "\n",
      "Finish 5 : Opposite(iPad)_resize.jpg at 12.480733871459961 sec\n",
      "\n",
      "--- 2.073150634765625 seconds ---\n",
      "\n",
      "Finish 6 : Shirt(iPad)_resize.jpg at 14.605261087417603 sec\n",
      "\n",
      "--- 2.1245272159576416 seconds ---\n",
      "\n",
      "Finish 7 : Sky(iPad)_resize.jpg at 16.680581092834473 sec\n",
      "\n",
      "--- 2.07532000541687 seconds ---\n",
      "\n",
      "Finish 8 : Snack(iPad)_resize.jpg at 18.76730990409851 sec\n",
      "\n",
      "--- 2.086728811264038 seconds ---\n",
      "\n",
      "Total Augment Time :   18.76730990409851\n",
      "Total Images Augmented :  9\n",
      "Avg augmentation time per image = 2.085256656010946 seconds\n"
     ]
    }
   ],
   "source": [
    "count = 0\n",
    "sum_augment_time = 0\n",
    "\n",
    "for filename in os.listdir(images_dir):\n",
    "    if filename.endswith(\".jpg\") and \"iPad\" in filename :\n",
    "        src_path = images_dir + filename\n",
    "        output_image_name = output_dir + filename\n",
    "\n",
    "        start_time = time.time()\n",
    "        map_img(map_table, src_path, output_image_name)\n",
    "        aug_time = time.time() - start_time\n",
    "        sum_augment_time += aug_time\n",
    "\n",
    "        #if count % 1000 == 0:\n",
    "        print(\"Finish %d : %s at %s sec\\n\" % (count, filename, sum_augment_time))\n",
    "        print(\"--- %s seconds ---\" % (aug_time))\n",
    "        print()\n",
    "\n",
    "        count += 1\n",
    "        \n",
    "print(\"Total Augment Time :  \", sum_augment_time)\n",
    "print(\"Total Images Augmented : \", count)\n",
    "print(\"Avg augmentation time per image = %s seconds\" % str(sum_augment_time/count))\n",
    "\n",
    "with open('Finish1.txt', 'w') as finishFile:\n",
    "    finishFile.write(\"Finish Augment \" + str(count) + \" Images in \" + str(sum_augment_time))"
   ]
  },
  {
   "cell_type": "code",
   "execution_count": null,
   "metadata": {},
   "outputs": [],
   "source": []
  }
 ],
 "metadata": {
  "kernelspec": {
   "display_name": "Python 3",
   "language": "python",
   "name": "python3"
  },
  "language_info": {
   "codemirror_mode": {
    "name": "ipython",
    "version": 3
   },
   "file_extension": ".py",
   "mimetype": "text/x-python",
   "name": "python",
   "nbconvert_exporter": "python",
   "pygments_lexer": "ipython3",
   "version": "3.5.6"
  }
 },
 "nbformat": 4,
 "nbformat_minor": 2
}
