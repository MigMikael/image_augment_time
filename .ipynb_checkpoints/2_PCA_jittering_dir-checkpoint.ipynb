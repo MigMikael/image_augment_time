{
 "cells": [
  {
   "cell_type": "code",
   "execution_count": 1,
   "metadata": {},
   "outputs": [],
   "source": [
    "import os\n",
    "import numpy as np\n",
    "import matplotlib.pyplot as plt\n",
    "from skimage import io, transform\n",
    "import scipy.misc\n",
    "import time\n",
    "%matplotlib inline"
   ]
  },
  {
   "cell_type": "code",
   "execution_count": 2,
   "metadata": {},
   "outputs": [],
   "source": [
    "images_dir = \"./Images/\"\n",
    "output_dir = \"./Images_PCAJ/\""
   ]
  },
  {
   "cell_type": "code",
   "execution_count": 3,
   "metadata": {},
   "outputs": [
    {
     "name": "stdout",
     "output_type": "stream",
     "text": [
      "9\n"
     ]
    },
    {
     "data": {
      "text/plain": [
       "'\\nimnames1 = imnames[0:10000]\\nimnames2 = imnames[10000:20000]\\nimnames3 = imnames[20000:30000]\\nimnames4 = imnames[30000:40000]\\nimnames5 = imnames[40000:50000]\\n\\nprint(len(imnames1))\\nprint(len(imnames2))\\nprint(len(imnames3))\\nprint(len(imnames4))\\nprint(len(imnames5))'"
      ]
     },
     "execution_count": 3,
     "metadata": {},
     "output_type": "execute_result"
    }
   ],
   "source": [
    "imnames = []\n",
    "for filename in os.listdir(images_dir):\n",
    "    if filename.endswith(\".jpg\") and \"iPad\" in filename:\n",
    "        imnames.append(images_dir + filename)\n",
    "print(len(imnames))\n",
    "'''\n",
    "imnames1 = imnames[0:10000]\n",
    "imnames2 = imnames[10000:20000]\n",
    "imnames3 = imnames[20000:30000]\n",
    "imnames4 = imnames[30000:40000]\n",
    "imnames5 = imnames[40000:50000]\n",
    "\n",
    "print(len(imnames1))\n",
    "print(len(imnames2))\n",
    "print(len(imnames3))\n",
    "print(len(imnames4))\n",
    "print(len(imnames5))'''"
   ]
  },
  {
   "cell_type": "code",
   "execution_count": 4,
   "metadata": {},
   "outputs": [
    {
     "name": "stdout",
     "output_type": "stream",
     "text": [
      "['./Images/Opposite(iPad)_resize.jpg', './Images/ATM(iPad)_resize.jpg', './Images/Snack(iPad)_resize.jpg', './Images/Bucket(iPad)_resize.jpg', './Images/Arm(iPad)_resize.jpg', './Images/Book(iPad)_resize.jpg', './Images/Field(iPad)_resize.jpg', './Images/Sky(iPad)_resize.jpg', './Images/Shirt(iPad)_resize.jpg']\n"
     ]
    }
   ],
   "source": [
    "print(imnames)"
   ]
  },
  {
   "cell_type": "markdown",
   "metadata": {},
   "source": [
    "## imnames 0"
   ]
  },
  {
   "cell_type": "code",
   "execution_count": 5,
   "metadata": {},
   "outputs": [],
   "source": [
    "curr_list = imnames\n",
    "\n",
    "imlist = (io.imread_collection(curr_list))\n",
    "\n",
    "#for i in range(len(imlist)):\n",
    "    #m = transform.resize(imlist[i], (32, 32, 3))"
   ]
  },
  {
   "cell_type": "code",
   "execution_count": 6,
   "metadata": {},
   "outputs": [
    {
     "name": "stderr",
     "output_type": "stream",
     "text": [
      "/anaconda3/lib/python3.6/site-packages/skimage/transform/_warps.py:84: UserWarning: The default mode, 'constant', will be changed to 'reflect' in skimage 0.15.\n",
      "  warn(\"The default mode, 'constant', will be changed to 'reflect' in \"\n"
     ]
    },
    {
     "name": "stdout",
     "output_type": "stream",
     "text": [
      "i = 0\n",
      "[[0.54215686 0.52156863 0.45784314]\n",
      " [0.55931373 0.54754902 0.48872549]\n",
      " [0.54803922 0.53627451 0.47647059]\n",
      " ...\n",
      " [0.76372549 0.78823529 0.74852941]\n",
      " [0.76568627 0.79558824 0.75686275]\n",
      " [0.7745098  0.79803922 0.75882353]]\n",
      "9216\n"
     ]
    }
   ],
   "source": [
    "res = np.zeros(shape=(1,3))\n",
    "\n",
    "for i in range(len(imlist)):\n",
    "    m = transform.resize(imlist[i], (32, 32, 3))\n",
    "    arr = m.reshape((32*32), 3)\n",
    "    res = np.concatenate((res, arr), axis=0)\n",
    "    if i % 500 == 0:\n",
    "        print(\"i = \" + str(i))\n",
    "    \n",
    "res = np.delete(res, (0), axis=0)\n",
    "\n",
    "print(res)\n",
    "print(len(res))"
   ]
  },
  {
   "cell_type": "code",
   "execution_count": 7,
   "metadata": {},
   "outputs": [
    {
     "name": "stdout",
     "output_type": "stream",
     "text": [
      "[0.52751162 0.51383597 0.4716048 ]\n"
     ]
    }
   ],
   "source": [
    "m = res.mean(axis=0)\n",
    "print(m)"
   ]
  },
  {
   "cell_type": "code",
   "execution_count": 8,
   "metadata": {},
   "outputs": [
    {
     "name": "stdout",
     "output_type": "stream",
     "text": [
      "[[ 0.01464525  0.00773266 -0.01376166]\n",
      " [ 0.03180211  0.03371305  0.01712069]\n",
      " [ 0.0205276   0.02243854  0.00486579]\n",
      " ...\n",
      " [ 0.23621387  0.27439933  0.27692462]\n",
      " [ 0.23817466  0.28175227  0.28525795]\n",
      " [ 0.24699819  0.28420325  0.28721873]]\n"
     ]
    }
   ],
   "source": [
    "res = res - m\n",
    "print(res)"
   ]
  },
  {
   "cell_type": "code",
   "execution_count": 9,
   "metadata": {},
   "outputs": [
    {
     "name": "stdout",
     "output_type": "stream",
     "text": [
      "[[0.06288925 0.05870479 0.05477658]\n",
      " [0.05870479 0.06483712 0.06090299]\n",
      " [0.05477658 0.06090299 0.07072946]]\n"
     ]
    }
   ],
   "source": [
    "R = np.cov(res, rowvar=False)\n",
    "print(R)"
   ]
  },
  {
   "cell_type": "code",
   "execution_count": 10,
   "metadata": {},
   "outputs": [],
   "source": [
    "from numpy import linalg as LA\n",
    "evals, evecs = LA.eigh(R)\n",
    "idx = np.argsort(evals)[::-1]\n",
    "evecs = evecs[:, idx]\n",
    "\n",
    "evals = evals[idx]\n",
    "\n",
    "evecs = evecs[:, :3]\n",
    "\n",
    "evecs_mat = np.column_stack((evecs))\n",
    "\n",
    "m = np.dot(evecs.T, res.T).T"
   ]
  },
  {
   "cell_type": "code",
   "execution_count": 11,
   "metadata": {},
   "outputs": [],
   "source": [
    "def data_aug(img):\n",
    "    mu = 0\n",
    "    sigma = 0.1\n",
    "    feature_vec=np.matrix(evecs_mat)\n",
    "    \n",
    "    se = np.zeros((3,1))\n",
    "    se[0][0] = np.random.normal(mu, sigma)*evals[0]\n",
    "    se[1][0] = np.random.normal(mu, sigma)*evals[1]\n",
    "    se[2][0] = np.random.normal(mu, sigma)*evals[2]\n",
    "    se = np.matrix(se)\n",
    "    val = feature_vec*se\n",
    "    \n",
    "    for i in range(img.shape[0]):\n",
    "        for j in range(img.shape[1]):\n",
    "            for k in range(img.shape[2]):\n",
    "                img[i, j, k] = float(img[i, j, k]) + float(val[k])\n",
    "    #return img"
   ]
  },
  {
   "cell_type": "code",
   "execution_count": 12,
   "metadata": {},
   "outputs": [
    {
     "name": "stderr",
     "output_type": "stream",
     "text": [
      "/anaconda3/lib/python3.6/site-packages/ipykernel_launcher.py:11: DeprecationWarning: `toimage` is deprecated!\n",
      "`toimage` is deprecated in SciPy 1.0.0, and will be removed in 1.2.0.\n",
      "Use Pillow's ``Image.fromarray`` directly instead.\n",
      "  # This is added back by InteractiveShellApp.init_path()\n"
     ]
    },
    {
     "name": "stdout",
     "output_type": "stream",
     "text": [
      "Finish 0 : Opposite(iPad)_resize.jpg at 23.777750730514526 sec\n",
      "\n",
      "--- 23.777750730514526 seconds ---\n",
      "\n",
      "Finish 1 : ATM(iPad)_resize.jpg at 47.32531380653381 sec\n",
      "\n",
      "--- 23.547563076019287 seconds ---\n",
      "\n",
      "Finish 2 : Snack(iPad)_resize.jpg at 74.2518630027771 sec\n",
      "\n",
      "--- 26.926549196243286 seconds ---\n",
      "\n",
      "Finish 3 : Bucket(iPad)_resize.jpg at 101.3492841720581 sec\n",
      "\n",
      "--- 27.097421169281006 seconds ---\n",
      "\n",
      "Finish 4 : Arm(iPad)_resize.jpg at 128.2802312374115 sec\n",
      "\n",
      "--- 26.930947065353394 seconds ---\n",
      "\n",
      "Finish 5 : Book(iPad)_resize.jpg at 153.64294838905334 sec\n",
      "\n",
      "--- 25.362717151641846 seconds ---\n",
      "\n",
      "Finish 6 : Field(iPad)_resize.jpg at 179.0083134174347 sec\n",
      "\n",
      "--- 25.365365028381348 seconds ---\n",
      "\n",
      "Finish 7 : Sky(iPad)_resize.jpg at 203.86052560806274 sec\n",
      "\n",
      "--- 24.85221219062805 seconds ---\n",
      "\n",
      "Finish 8 : Shirt(iPad)_resize.jpg at 230.29974341392517 sec\n",
      "\n",
      "--- 26.439217805862427 seconds ---\n",
      "\n",
      "Total Augment Time :   230.29974341392517\n",
      "Total Images Augmented :  9\n",
      "Avg augmentation time per image = 25.58886037932502 seconds\n",
      "Finish\n"
     ]
    }
   ],
   "source": [
    "count = 0\n",
    "sum_augment_time = 0\n",
    "\n",
    "for i in range(len(imlist)):\n",
    "    img = imlist[i]\n",
    "    \n",
    "    start_time = time.time()\n",
    "    \n",
    "    data_aug(img)\n",
    "    curr_name = curr_list[i].replace(images_dir, \"\")\n",
    "    scipy.misc.toimage(img, cmin=0.0, cmax=255.0).save(output_dir + curr_name)\n",
    "    \n",
    "    aug_time = time.time() - start_time\n",
    "    sum_augment_time += aug_time\n",
    "    \n",
    "    #if i % 1000 == 0:\n",
    "    print(\"Finish %d : %s at %s sec\\n\" % (count, curr_name, sum_augment_time))\n",
    "    print(\"--- %s seconds ---\" % (aug_time))\n",
    "    print()\n",
    "        \n",
    "    count += 1\n",
    "\n",
    "print(\"Total Augment Time :  \", sum_augment_time)\n",
    "print(\"Total Images Augmented : \", count)\n",
    "print(\"Avg augmentation time per image = %s seconds\" % str(sum_augment_time/count))\n",
    "print(\"Finish\")"
   ]
  },
  {
   "cell_type": "markdown",
   "metadata": {},
   "source": [
    "---"
   ]
  },
  {
   "cell_type": "markdown",
   "metadata": {},
   "source": [
    "---"
   ]
  },
  {
   "cell_type": "code",
   "execution_count": null,
   "metadata": {},
   "outputs": [],
   "source": [
    "img = imlist[0]\n",
    "print(img[0])\n",
    "print(\"-----------------\")\n",
    "data_aug(img)\n",
    "print(img[0])\n",
    "#plt.imshow(img)\n",
    "print(type(img))"
   ]
  },
  {
   "cell_type": "code",
   "execution_count": null,
   "metadata": {},
   "outputs": [],
   "source": [
    "#import cv2\n",
    "#cv2.imwrite('arm_pca_jitter.jpg',img)\n",
    "\n",
    "\n",
    "#from skimage.io import imsave\n",
    "#imsave('arm(S8)_pca_jittering.jpg',img)\n",
    "\n",
    "scipy.misc.toimage(img, cmin=0.0, cmax=255.0).save('arm(S8)_pca_jittering.jpg')"
   ]
  },
  {
   "cell_type": "code",
   "execution_count": null,
   "metadata": {},
   "outputs": [],
   "source": []
  }
 ],
 "metadata": {
  "kernelspec": {
   "display_name": "Python 3",
   "language": "python",
   "name": "python3"
  },
  "language_info": {
   "codemirror_mode": {
    "name": "ipython",
    "version": 3
   },
   "file_extension": ".py",
   "mimetype": "text/x-python",
   "name": "python",
   "nbconvert_exporter": "python",
   "pygments_lexer": "ipython3",
   "version": "3.6.5"
  }
 },
 "nbformat": 4,
 "nbformat_minor": 2
}
