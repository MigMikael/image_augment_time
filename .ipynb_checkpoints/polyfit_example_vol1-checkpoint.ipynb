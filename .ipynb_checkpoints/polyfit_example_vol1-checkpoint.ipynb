{
 "cells": [
  {
   "cell_type": "code",
   "execution_count": 1,
   "metadata": {},
   "outputs": [],
   "source": [
    "from sklearn.preprocessing import PolynomialFeatures\n",
    "from sklearn import linear_model\n",
    "import numpy as np"
   ]
  },
  {
   "cell_type": "code",
   "execution_count": 2,
   "metadata": {},
   "outputs": [],
   "source": [
    "feature = [[5, 0, 0], [0, 5, 0]]\n",
    "\n",
    "label = [10, 0, 0], [0, 10, 0]\n",
    "\n",
    "predict= [5, 0, 0], [0, 5, 0]"
   ]
  },
  {
   "cell_type": "code",
   "execution_count": 3,
   "metadata": {},
   "outputs": [
    {
     "name": "stdout",
     "output_type": "stream",
     "text": [
      "[[  1.   5.   0.   0.  25.   0.   0.   0.   0.   0. 125.   0.   0.   0.\n",
      "    0.   0.   0.   0.   0.   0.]\n",
      " [  1.   0.   5.   0.   0.   0.   0.  25.   0.   0.   0.   0.   0.   0.\n",
      "    0.   0. 125.   0.   0.   0.]]\n",
      "\n",
      "[[  1.   5.   0.   0.  25.   0.   0.   0.   0.   0. 125.   0.   0.   0.\n",
      "    0.   0.   0.   0.   0.   0.]\n",
      " [  1.   0.   5.   0.   0.   0.   0.  25.   0.   0.   0.   0.   0.   0.\n",
      "    0.   0. 125.   0.   0.   0.]]\n"
     ]
    }
   ],
   "source": [
    "poly = PolynomialFeatures(degree=3)\n",
    "\n",
    "feature_ = poly.fit_transform(feature)\n",
    "print(feature_)\n",
    "print()\n",
    "\n",
    "predict_ = poly.fit_transform(predict)\n",
    "print(predict_)"
   ]
  },
  {
   "cell_type": "code",
   "execution_count": 4,
   "metadata": {},
   "outputs": [
    {
     "name": "stdout",
     "output_type": "stream",
     "text": [
      "[[  5.   0.   0.  25.   0.   0.   0.   0.   0. 125.   0.   0.   0.   0.\n",
      "    0.   0.   0.   0.   0.]\n",
      " [  0.   5.   0.   0.   0.   0.  25.   0.   0.   0.   0.   0.   0.   0.\n",
      "    0. 125.   0.   0.   0.]]\n",
      "\n",
      "[[  5.   0.   0.  25.   0.   0.   0.   0.   0. 125.   0.   0.   0.   0.\n",
      "    0.   0.   0.   0.   0.]\n",
      " [  0.   5.   0.   0.   0.   0.  25.   0.   0.   0.   0.   0.   0.   0.\n",
      "    0. 125.   0.   0.   0.]]\n"
     ]
    }
   ],
   "source": [
    "feature_ = np.delete(feature_,(0),axis=1)\n",
    "print(feature_)\n",
    "print()\n",
    "\n",
    "predict_ = np.delete(predict_,(0),axis=1)\n",
    "print(predict_)"
   ]
  },
  {
   "cell_type": "code",
   "execution_count": 5,
   "metadata": {},
   "outputs": [
    {
     "data": {
      "text/plain": [
       "LinearRegression(copy_X=True, fit_intercept=True, n_jobs=1, normalize=False)"
      ]
     },
     "execution_count": 5,
     "metadata": {},
     "output_type": "execute_result"
    }
   ],
   "source": [
    "clf = linear_model.LinearRegression()\n",
    "clf.fit(feature_, label)"
   ]
  },
  {
   "cell_type": "code",
   "execution_count": 6,
   "metadata": {},
   "outputs": [
    {
     "name": "stdout",
     "output_type": "stream",
     "text": [
      "X_ =  [[  5.   0.   0.  25.   0.   0.   0.   0.   0. 125.   0.   0.   0.   0.\n",
      "    0.   0.   0.   0.   0.]\n",
      " [  0.   5.   0.   0.   0.   0.  25.   0.   0.   0.   0.   0.   0.   0.\n",
      "    0. 125.   0.   0.   0.]]\n",
      "predict_ =  [[  5.   0.   0.  25.   0.   0.   0.   0.   0. 125.   0.   0.   0.   0.\n",
      "    0.   0.   0.   0.   0.]\n",
      " [  0.   5.   0.   0.   0.   0.  25.   0.   0.   0.   0.   0.   0.   0.\n",
      "    0. 125.   0.   0.   0.]]\n",
      "Prediction =  [[10.  0.  0.]\n",
      " [ 0. 10.  0.]]\n"
     ]
    }
   ],
   "source": [
    "print(\"feature_ = \", feature_)\n",
    "print()\n",
    "print(\"predict_ = \", predict_)\n",
    "print()\n",
    "print(\"Prediction = \", clf.predict(predict_))"
   ]
  },
  {
   "cell_type": "code",
   "execution_count": null,
   "metadata": {},
   "outputs": [],
   "source": []
  }
 ],
 "metadata": {
  "kernelspec": {
   "display_name": "Python 3",
   "language": "python",
   "name": "python3"
  },
  "language_info": {
   "codemirror_mode": {
    "name": "ipython",
    "version": 3
   },
   "file_extension": ".py",
   "mimetype": "text/x-python",
   "name": "python",
   "nbconvert_exporter": "python",
   "pygments_lexer": "ipython3",
   "version": "3.6.5"
  }
 },
 "nbformat": 4,
 "nbformat_minor": 2
}
