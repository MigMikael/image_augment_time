{
 "cells": [
  {
   "cell_type": "code",
   "execution_count": 1,
   "metadata": {},
   "outputs": [],
   "source": [
    "images_dir = \"./test/\"\n",
    "output_dir = \"./test_colormap/\"\n",
    "color_map_path = \"./iPadtoMotoC_color_map.txt\"\n",
    "#feature_name = \"iPad\"\n",
    "\n",
    "#gpu_no = 0\n",
    "sum_augment_time = 0"
   ]
  },
  {
   "cell_type": "code",
   "execution_count": 2,
   "metadata": {},
   "outputs": [
    {
     "data": {
      "text/plain": [
       "'\\nisGPU = C.device.try_set_default_device(C.device.gpu(gpu_no))\\nif isGPU:\\n    print(\"Using GPU \", str(gpu_no))\\nelse:\\n    print(\"Using CPU\")'"
      ]
     },
     "execution_count": 2,
     "metadata": {},
     "output_type": "execute_result"
    }
   ],
   "source": [
    "import numpy\n",
    "import cv2\n",
    "from matplotlib import pyplot as plt\n",
    "from PIL import Image\n",
    "import time\n",
    "import os\n",
    "\n",
    "'''\n",
    "isGPU = C.device.try_set_default_device(C.device.gpu(gpu_no))\n",
    "if isGPU:\n",
    "    print(\"Using GPU \", str(gpu_no))\n",
    "else:\n",
    "    print(\"Using CPU\")'''"
   ]
  },
  {
   "cell_type": "code",
   "execution_count": 3,
   "metadata": {},
   "outputs": [],
   "source": [
    "def load_color_map(color_map_path):\n",
    "    start_time = time.time()\n",
    "    map_table = numpy.zeros([256, 256, 256, 3], numpy.uint8)\n",
    "    with open(color_map_path, \"r\") as map_file:\n",
    "        for line in map_file:\n",
    "            src, predict = line.split(\" | \")\n",
    "            [r0, g0, b0] = [int(x) for x in src.split(\" \")]\n",
    "            [r1, g1, b1] = [int(x) for x in predict.split(\" \")]\n",
    "            map_table[r0, g0, b0, :] = numpy.asarray([r1, g1, b1], numpy.uint8)\n",
    "    \n",
    "    map_table_creation_time = time.time() - start_time\n",
    "    print(\"--- %s seconds ---\" % (map_table_creation_time))\n",
    "    \n",
    "    return map_table"
   ]
  },
  {
   "cell_type": "code",
   "execution_count": 4,
   "metadata": {},
   "outputs": [],
   "source": [
    "def map_img(map_table, src_path, output_image_name):\n",
    "    src = cv2.imread(src_path)\n",
    "    rows = src.shape[0]\n",
    "    cols = src.shape[1]\n",
    "    dst = numpy.zeros([rows, cols, 3], numpy.uint8)\n",
    "    for r in range(rows):    \n",
    "        for c in range(cols):\n",
    "            src_color = src[r, c]\n",
    "            dst[r, c, :] = map_table[src_color[2], src_color[1], src_color[0], :]\n",
    "    dst = dst[...,::-1]\n",
    "    cv2.imwrite(output_image_name, dst)"
   ]
  },
  {
   "cell_type": "code",
   "execution_count": 5,
   "metadata": {},
   "outputs": [
    {
     "name": "stdout",
     "output_type": "stream",
     "text": [
      "--- 100.53750610351562 seconds ---\n",
      "[0 0 0]\n",
      "[200 191 204]\n"
     ]
    }
   ],
   "source": [
    "map_table = load_color_map(color_map_path)\n",
    "print(map_table[0, 0, 0, :])\n",
    "print(map_table[255, 255, 255, :])"
   ]
  },
  {
   "cell_type": "code",
   "execution_count": 9,
   "metadata": {},
   "outputs": [
    {
     "name": "stdout",
     "output_type": "stream",
     "text": [
      "Finish 0 : 07488.png at 0.009076118469238281 sec\n",
      "\n",
      "--- 0.009076118469238281 seconds ---\n",
      "\n",
      "Finish 1000 : 06838.png at 2.9878790378570557 sec\n",
      "\n",
      "--- 0.003149747848510742 seconds ---\n",
      "\n",
      "Finish 2000 : 08225.png at 5.693089723587036 sec\n",
      "\n",
      "--- 0.003579854965209961 seconds ---\n",
      "\n",
      "Finish 3000 : 08242.png at 8.771554470062256 sec\n",
      "\n",
      "--- 0.0034291744232177734 seconds ---\n",
      "\n",
      "Finish 4000 : 07599.png at 11.567131519317627 sec\n",
      "\n",
      "--- 0.003545999526977539 seconds ---\n",
      "\n",
      "Finish 5000 : 09381.png at 14.242580890655518 sec\n",
      "\n",
      "--- 0.0019578933715820312 seconds ---\n",
      "\n",
      "Finish 6000 : 06846.png at 17.36886215209961 sec\n",
      "\n",
      "--- 0.002650022506713867 seconds ---\n",
      "\n",
      "Finish 7000 : 00607.png at 20.197511196136475 sec\n",
      "\n",
      "--- 0.002653837203979492 seconds ---\n",
      "\n",
      "Finish 8000 : 00660.png at 22.634514808654785 sec\n",
      "\n",
      "--- 0.002607107162475586 seconds ---\n",
      "\n",
      "Finish 9000 : 00288.png at 25.191423654556274 sec\n",
      "\n",
      "--- 0.00409698486328125 seconds ---\n",
      "\n",
      "Total Augment Time :   29.000360012054443\n",
      "Total Images Augmented :  10000\n",
      "Avg augmentation time per image = 0.0029000360012054445 seconds\n"
     ]
    }
   ],
   "source": [
    "count = 0\n",
    "sum_augment_time = 0\n",
    "\n",
    "for filename in os.listdir(images_dir):\n",
    "    if filename.endswith(\".png\"):\n",
    "        src_path = images_dir + filename\n",
    "        output_image_name = output_dir + filename\n",
    "\n",
    "        start_time = time.time()\n",
    "        map_img(map_table, src_path, output_image_name)\n",
    "        aug_time = time.time() - start_time\n",
    "        sum_augment_time += aug_time\n",
    "\n",
    "        if count % 1000 == 0:\n",
    "            print(\"Finish %d : %s at %s sec\\n\" % (count, filename, sum_augment_time))\n",
    "            print(\"--- %s seconds ---\" % (aug_time))\n",
    "            print()\n",
    "\n",
    "        count += 1\n",
    "        \n",
    "print(\"Total Augment Time :  \", sum_augment_time)\n",
    "print(\"Total Images Augmented : \", count)\n",
    "print(\"Avg augmentation time per image = %s seconds\" % str(sum_augment_time/count))\n",
    "\n",
    "with open('Finish1.txt', 'w') as finishFile:\n",
    "    finishFile.write(\"Finish Augment \" + str(count) + \" Images in \" + str(sum_augment_time))"
   ]
  },
  {
   "cell_type": "code",
   "execution_count": null,
   "metadata": {},
   "outputs": [],
   "source": []
  }
 ],
 "metadata": {
  "kernelspec": {
   "display_name": "Python 3",
   "language": "python",
   "name": "python3"
  },
  "language_info": {
   "codemirror_mode": {
    "name": "ipython",
    "version": 3
   },
   "file_extension": ".py",
   "mimetype": "text/x-python",
   "name": "python",
   "nbconvert_exporter": "python",
   "pygments_lexer": "ipython3",
   "version": "3.6.5"
  }
 },
 "nbformat": 4,
 "nbformat_minor": 2
}
