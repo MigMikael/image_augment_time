{
 "cells": [
  {
   "cell_type": "code",
   "execution_count": 1,
   "metadata": {
    "collapsed": true
   },
   "outputs": [],
   "source": [
    "import numpy as np\n",
    "import matplotlib.pyplot as plt\n",
    "from skimage import io, transform\n",
    "%matplotlib inline"
   ]
  },
  {
   "cell_type": "code",
   "execution_count": 2,
   "metadata": {
    "collapsed": true
   },
   "outputs": [],
   "source": [
    "# S8 to iPad\n",
    "imnames = ['./Images/Arm(S8+)_resize.jpg', './Images/ATM(S8+)_resize.jpg', './Images/Book(S8+)_resize.jpg', './Images/Bucket(S8+)_resize.jpg', './Images/Field(S8+)_resize.jpg', './Images/Opposite(S8+)_resize.jpg', './Images/Shirt(S8+)_resize.jpg', './Images/Sky(S8+)_resize.jpg', './Images/Snack(S8+)_resize.jpg']\n",
    "\n",
    "imlist = (io.imread_collection(imnames))\n",
    "\n",
    "for i in range(len(imlist)):\n",
    "    m = transform.resize(imlist[i], (32, 1200, 3))"
   ]
  },
  {
   "cell_type": "code",
   "execution_count": 3,
   "metadata": {},
   "outputs": [
    {
     "name": "stdout",
     "output_type": "stream",
     "text": [
      "[[ 0.36797386  0.34052288  0.23856209]\n",
      " [ 0.33137255  0.30392157  0.20196078]\n",
      " [ 0.34379085  0.31633987  0.21437908]\n",
      " ..., \n",
      " [ 0.74901961  0.74117647  0.74509804]\n",
      " [ 0.74901961  0.74117647  0.74509804]\n",
      " [ 0.74901961  0.74117647  0.74509804]]\n",
      "12960000\n"
     ]
    }
   ],
   "source": [
    "res = np.zeros(shape=(1,3))\n",
    "\n",
    "for i in range(len(imlist)):\n",
    "    m = transform.resize(imlist[i], (1200, 1200, 3))\n",
    "    arr = m.reshape((1200*1200), 3)\n",
    "    res = np.concatenate((res, arr), axis=0)\n",
    "    \n",
    "res = np.delete(res, (0), axis=0)\n",
    "\n",
    "print(res)\n",
    "print(len(res))"
   ]
  },
  {
   "cell_type": "code",
   "execution_count": 4,
   "metadata": {},
   "outputs": [
    {
     "name": "stdout",
     "output_type": "stream",
     "text": [
      "[ 0.5303844   0.49741328  0.45365616]\n"
     ]
    }
   ],
   "source": [
    "m = res.mean(axis=0)\n",
    "print(m)"
   ]
  },
  {
   "cell_type": "code",
   "execution_count": 5,
   "metadata": {},
   "outputs": [
    {
     "name": "stdout",
     "output_type": "stream",
     "text": [
      "[[-0.16241054 -0.15689041 -0.21509407]\n",
      " [-0.19901185 -0.19349171 -0.25169538]\n",
      " [-0.18659355 -0.18107341 -0.23927708]\n",
      " ..., \n",
      " [ 0.21863521  0.24376319  0.29144188]\n",
      " [ 0.21863521  0.24376319  0.29144188]\n",
      " [ 0.21863521  0.24376319  0.29144188]]\n"
     ]
    }
   ],
   "source": [
    "res = res - m\n",
    "print(res)"
   ]
  },
  {
   "cell_type": "code",
   "execution_count": 6,
   "metadata": {},
   "outputs": [
    {
     "name": "stdout",
     "output_type": "stream",
     "text": [
      "[[ 0.06149552  0.05562276  0.04909883]\n",
      " [ 0.05562276  0.06570364  0.05940754]\n",
      " [ 0.04909883  0.05940754  0.07618774]]\n"
     ]
    }
   ],
   "source": [
    "R = np.cov(res, rowvar=False)\n",
    "print(R)"
   ]
  },
  {
   "cell_type": "code",
   "execution_count": 7,
   "metadata": {
    "collapsed": true
   },
   "outputs": [],
   "source": [
    "from numpy import linalg as LA\n",
    "evals, evecs = LA.eigh(R)\n",
    "idx = np.argsort(evals)[::-1]\n",
    "evecs = evecs[:, idx]\n",
    "\n",
    "evals = evals[idx]\n",
    "\n",
    "evecs = evecs[:, :3]\n",
    "\n",
    "evecs_mat = np.column_stack((evecs))\n",
    "\n",
    "m = np.dot(evecs.T, res.T).T"
   ]
  },
  {
   "cell_type": "code",
   "execution_count": 8,
   "metadata": {
    "collapsed": true
   },
   "outputs": [],
   "source": [
    "def data_aug(img):\n",
    "    mu = 0\n",
    "    sigma = 0.1\n",
    "    feature_vec=np.matrix(evecs_mat)\n",
    "    \n",
    "    se = np.zeros((3,1))\n",
    "    se[0][0] = np.random.normal(mu, sigma)*evals[0]\n",
    "    se[1][0] = np.random.normal(mu, sigma)*evals[1]\n",
    "    se[2][0] = np.random.normal(mu, sigma)*evals[2]\n",
    "    se = np.matrix(se)\n",
    "    val = feature_vec*se\n",
    "    \n",
    "    for i in range(img.shape[0]):\n",
    "        for j in range(img.shape[1]):\n",
    "            for k in range(img.shape[2]):\n",
    "                img[i, j, k] = float(img[i, j, k]) + float(val[k])\n",
    "    #return img"
   ]
  },
  {
   "cell_type": "code",
   "execution_count": 9,
   "metadata": {},
   "outputs": [
    {
     "name": "stdout",
     "output_type": "stream",
     "text": [
      "[[95 88 62]\n",
      " [88 81 55]\n",
      " [81 74 48]\n",
      " ..., \n",
      " [21 33 83]\n",
      " [21 33 83]\n",
      " [21 33 83]]\n",
      "-----------------\n",
      "[[95 87 62]\n",
      " [88 80 55]\n",
      " [81 73 48]\n",
      " ..., \n",
      " [21 32 83]\n",
      " [21 32 83]\n",
      " [21 32 83]]\n",
      "<class 'numpy.ndarray'>\n"
     ]
    }
   ],
   "source": [
    "img = imlist[0]\n",
    "print(img[0])\n",
    "print(\"-----------------\")\n",
    "data_aug(img)\n",
    "print(img[0])\n",
    "#plt.imshow(img)\n",
    "print(type(img))"
   ]
  },
  {
   "cell_type": "code",
   "execution_count": 10,
   "metadata": {
    "collapsed": true
   },
   "outputs": [],
   "source": [
    "#import cv2\n",
    "#cv2.imwrite('arm_pca_jitter.jpg',img)\n",
    "\n",
    "\n",
    "#from skimage.io import imsave\n",
    "#imsave('arm(S8)_pca_jittering.jpg',img)\n",
    "\n",
    "import scipy.misc\n",
    "scipy.misc.toimage(img, cmin=0.0, cmax=255.0).save('arm(S8)_pca_jittering.jpg')"
   ]
  },
  {
   "cell_type": "code",
   "execution_count": 11,
   "metadata": {},
   "outputs": [
    {
     "name": "stdout",
     "output_type": "stream",
     "text": [
      "[[173 175 174]\n",
      " [173 175 174]\n",
      " [170 172 171]\n",
      " ..., \n",
      " [195 192 199]\n",
      " [196 193 200]\n",
      " [197 194 201]]\n",
      "-----------------\n",
      "[[173 174 174]\n",
      " [173 174 174]\n",
      " [170 171 171]\n",
      " ..., \n",
      " [195 191 199]\n",
      " [196 192 200]\n",
      " [197 193 201]]\n"
     ]
    }
   ],
   "source": [
    "img = imlist[2]\n",
    "print(img[0])\n",
    "print(\"-----------------\")\n",
    "data_aug(img)\n",
    "print(img[0])\n",
    "scipy.misc.toimage(img, cmin=0.0, cmax=255.0).save('Book(S8)_pca_jittering.jpg')"
   ]
  },
  {
   "cell_type": "code",
   "execution_count": null,
   "metadata": {
    "collapsed": true
   },
   "outputs": [],
   "source": []
  }
 ],
 "metadata": {
  "kernelspec": {
   "display_name": "Python 3",
   "language": "python",
   "name": "python3"
  },
  "language_info": {
   "codemirror_mode": {
    "name": "ipython",
    "version": 3
   },
   "file_extension": ".py",
   "mimetype": "text/x-python",
   "name": "python",
   "nbconvert_exporter": "python",
   "pygments_lexer": "ipython3",
   "version": "3.5.2"
  }
 },
 "nbformat": 4,
 "nbformat_minor": 2
}
