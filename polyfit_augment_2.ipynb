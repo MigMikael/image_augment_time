{
 "cells": [
  {
   "cell_type": "code",
   "execution_count": null,
   "metadata": {
    "collapsed": true
   },
   "outputs": [],
   "source": [
    "from sklearn.preprocessing import PolynomialFeatures\n",
    "from sklearn import linear_model\n",
    "import numpy as np"
   ]
  },
  {
   "cell_type": "code",
   "execution_count": null,
   "metadata": {
    "collapsed": true
   },
   "outputs": [],
   "source": [
    "def loadData(data_path):\n",
    "    input_X = []\n",
    "    vector = []\n",
    "    with open(data_path, \"r\") as data_file:\n",
    "        for line in data_file:\n",
    "            label, feature = line.split(\"|features \")\n",
    "            label = label.replace(\"|labels \", \"\")\n",
    "            \n",
    "            f_r, f_g, f_b = feature.split(\" \")\n",
    "            input_X.append([int(f_r), int(f_g), int(f_b)])\n",
    "            \n",
    "            l_r, l_g, l_b, sp = label.split(\" \")\n",
    "            vector.append([int(l_r), int(l_g), int(l_b),])\n",
    "    return input_X, vector"
   ]
  },
  {
   "cell_type": "code",
   "execution_count": 9,
   "metadata": {
    "collapsed": true
   },
   "outputs": [],
   "source": [
    "data_path = \"./Data/Centroid_Data/iPad_S8_plus_train_data_5.txt\"\n",
    "input_X, vector = loadData(data_path)"
   ]
  },
  {
   "cell_type": "code",
   "execution_count": 10,
   "metadata": {},
   "outputs": [
    {
     "name": "stdout",
     "output_type": "stream",
     "text": [
      "6102000 6102000\n",
      "[79, 38, 112] [72, 45, 93]\n"
     ]
    }
   ],
   "source": [
    "print(len(input_X), len(vector))\n",
    "print(input_X[0], vector[0])"
   ]
  },
  {
   "cell_type": "code",
   "execution_count": 11,
   "metadata": {
    "collapsed": true
   },
   "outputs": [],
   "source": [
    "poly = PolynomialFeatures(degree=3)\n",
    "\n",
    "X_ = poly.fit_transform(input_X)\n",
    "X_ = np.delete(X_,(0),axis=1)"
   ]
  },
  {
   "cell_type": "code",
   "execution_count": 12,
   "metadata": {},
   "outputs": [
    {
     "data": {
      "text/plain": [
       "LinearRegression(copy_X=True, fit_intercept=True, n_jobs=1, normalize=False)"
      ]
     },
     "execution_count": 12,
     "metadata": {},
     "output_type": "execute_result"
    }
   ],
   "source": [
    "clf = linear_model.LinearRegression()\n",
    "clf.fit(X_,vector)"
   ]
  },
  {
   "cell_type": "code",
   "execution_count": 14,
   "metadata": {},
   "outputs": [
    {
     "name": "stdout",
     "output_type": "stream",
     "text": [
      "Prediction =  [[ 67.32024777  39.7710697   87.21772829]\n",
      " [ 66.48307767  38.85005853  86.25084583]]\n"
     ]
    }
   ],
   "source": [
    "predict = [[79, 38, 112], [78, 37, 111]]\n",
    "predict_ = poly.fit_transform(predict)\n",
    "predict_ = np.delete(predict_, (0), axis=1)\n",
    "print(\"Prediction = \", clf.predict(predict_))"
   ]
  },
  {
   "cell_type": "code",
   "execution_count": 17,
   "metadata": {
    "collapsed": true
   },
   "outputs": [],
   "source": [
    "def loadTestData(test_path):\n",
    "    predict = []\n",
    "    ground_truth = []\n",
    "    with open(test_path, \"r\") as test_file:\n",
    "        for line in test_file:\n",
    "            label, feature = line.split(\"|features \")\n",
    "            label = label.replace(\"|labels \", \"\")\n",
    "            \n",
    "            f_r, f_g, f_b = feature.split(\" \")\n",
    "            predict.append([int(f_r), int(f_g), int(f_b)])\n",
    "            \n",
    "            l_r, l_g, l_b, sp = label.split(\" \")\n",
    "            ground_truth.append([int(l_r), int(l_g), int(l_b),])\n",
    "    return predict, ground_truth"
   ]
  },
  {
   "cell_type": "code",
   "execution_count": 18,
   "metadata": {
    "collapsed": true
   },
   "outputs": [],
   "source": [
    "test_path = \"./Data/Centroid_Data/iPad_S8_plus_test_data_5.txt\"\n",
    "predict, ground_truth = loadTestData(test_path)"
   ]
  },
  {
   "cell_type": "code",
   "execution_count": 26,
   "metadata": {},
   "outputs": [
    {
     "name": "stdout",
     "output_type": "stream",
     "text": [
      "[[53, 48, 96], [114, 37, 84], [153, 187, 136], [77, 92, 55], [129, 41, 86]]\n",
      "\n",
      "[[60, 52, 99], [118, 40, 94], [156, 191, 127], [84, 96, 66], [138, 43, 101]]\n"
     ]
    }
   ],
   "source": [
    "predict_ = poly.fit_transform(predict)\n",
    "predict_ = np.delete(predict_, (0), axis=1)\n",
    "predicted = clf.predict(predict_)\n",
    "predicted = [[int(round(x[0])), int(round(x[1])), int(round(x[2]))] for x in predicted]\n",
    "\n",
    "print(predicted[:5])\n",
    "print()\n",
    "print(ground_truth[:5])"
   ]
  },
  {
   "cell_type": "code",
   "execution_count": 27,
   "metadata": {
    "collapsed": true
   },
   "outputs": [],
   "source": [
    "from PIL import Image\n",
    "\n",
    "image_path = \"./Images/Snack(S8+)_resize.jpg\"\n",
    "img = Image.open(image_path)\n",
    "pixel_list = []\n",
    "for i in range(img.size[0]):    \n",
    "    for j in range(img.size[1]):\n",
    "        pixel_list.append(img.getpixel((i,j)))\n",
    "        #print(\"R : \", img.getpixel((i,j))[0])\n",
    "        \n",
    "pixel_set = set(pixel_list)\n",
    "original_value = list(pixel_set)"
   ]
  },
  {
   "cell_type": "code",
   "execution_count": 28,
   "metadata": {},
   "outputs": [
    {
     "name": "stdout",
     "output_type": "stream",
     "text": [
      "[(210, 184, 107), (237, 208, 18), (72, 69, 146), (214, 202, 116), (73, 42, 40)]\n"
     ]
    }
   ],
   "source": [
    "print(original_value[:5])"
   ]
  },
  {
   "cell_type": "code",
   "execution_count": 29,
   "metadata": {},
   "outputs": [
    {
     "name": "stdout",
     "output_type": "stream",
     "text": [
      "[[204, 178, 97], [225, 189, 66], [64, 64, 122], [207, 194, 106], [64, 46, 44]]\n",
      "\n"
     ]
    }
   ],
   "source": [
    "predict_ = poly.fit_transform(original_value)\n",
    "predict_ = np.delete(predict_, (0), axis=1)\n",
    "predicted = clf.predict(predict_)\n",
    "predicted = [[int(round(x[0])), int(round(x[1])), int(round(x[2]))] for x in predicted]\n",
    "\n",
    "print(predicted[:5])\n",
    "print()"
   ]
  },
  {
   "cell_type": "code",
   "execution_count": 30,
   "metadata": {},
   "outputs": [
    {
     "name": "stdout",
     "output_type": "stream",
     "text": [
      "(210, 184, 107)  =>  [204, 178, 97]\n",
      "(237, 208, 18)  =>  [225, 189, 66]\n",
      "(72, 69, 146)  =>  [64, 64, 122]\n",
      "(214, 202, 116)  =>  [207, 194, 106]\n",
      "(73, 42, 40)  =>  [64, 46, 44]\n",
      "(23, 36, 29)  =>  [35, 45, 37]\n"
     ]
    }
   ],
   "source": [
    "combined_dict = {}\n",
    "i = 0\n",
    "for e in original_value:\n",
    "    combined_dict[e] = predicted[i]\n",
    "    i += 1\n",
    "\n",
    "i = 0\n",
    "for key in combined_dict:\n",
    "    print(key , \" => \", combined_dict[key])\n",
    "    i+=1\n",
    "    if i > 5:\n",
    "        break"
   ]
  },
  {
   "cell_type": "code",
   "execution_count": 31,
   "metadata": {},
   "outputs": [
    {
     "name": "stdout",
     "output_type": "stream",
     "text": [
      "Finish Write Image\n"
     ]
    }
   ],
   "source": [
    "def correct_range(pixel_value):\n",
    "    if pixel_value < 0:\n",
    "        pixel_value = 0\n",
    "        \n",
    "    if pixel_value > 255:\n",
    "        pixel_value = 255\n",
    "        \n",
    "    return pixel_value\n",
    "\n",
    "img = Image.open(image_path)\n",
    "pixels = img.load()\n",
    "for i in range(img.size[0]):    \n",
    "    for j in range(img.size[1]):\n",
    "        key = img.getpixel((i,j))\n",
    "        R = int(combined_dict[key][0])\n",
    "        G = int(combined_dict[key][1])\n",
    "        B = int(combined_dict[key][2])\n",
    "\n",
    "        R = correct_range(R)\n",
    "        G = correct_range(G)\n",
    "        B = correct_range(B)\n",
    "\n",
    "        pixels[i,j] = (R, G, B)\n",
    "            \n",
    "img.save(\"./Snack(S8+)_resize_poly_fit.jpg\")\n",
    "print(\"Finish Write Image\")"
   ]
  },
  {
   "cell_type": "code",
   "execution_count": null,
   "metadata": {
    "collapsed": true
   },
   "outputs": [],
   "source": []
  }
 ],
 "metadata": {
  "kernelspec": {
   "display_name": "Python 3",
   "language": "python",
   "name": "python3"
  },
  "language_info": {
   "codemirror_mode": {
    "name": "ipython",
    "version": 3
   },
   "file_extension": ".py",
   "mimetype": "text/x-python",
   "name": "python",
   "nbconvert_exporter": "python",
   "pygments_lexer": "ipython3",
   "version": "3.6.5"
  }
 },
 "nbformat": 4,
 "nbformat_minor": 2
}
