{
 "cells": [
  {
   "cell_type": "code",
   "execution_count": 1,
   "metadata": {
    "collapsed": true
   },
   "outputs": [],
   "source": [
    "from sklearn.preprocessing import PolynomialFeatures\n",
    "from sklearn import linear_model\n",
    "import numpy as np"
   ]
  },
  {
   "cell_type": "code",
   "execution_count": 2,
   "metadata": {},
   "outputs": [],
   "source": [
    "X = [[0.44, 0.68], [0.99, 0.23]]\n",
    "\n",
    "vector = [109.85, 155.72]\n",
    "\n",
    "predict= [0.49, 0.18]"
   ]
  },
  {
   "cell_type": "code",
   "execution_count": 3,
   "metadata": {},
   "outputs": [
    {
     "name": "stdout",
     "output_type": "stream",
     "text": [
      "[[ 1.        0.44      0.68      0.1936    0.2992    0.4624    0.085184\n",
      "   0.131648  0.203456  0.314432]\n",
      " [ 1.        0.99      0.23      0.9801    0.2277    0.0529    0.970299\n",
      "   0.225423  0.052371  0.012167]]\n",
      "\n",
      "[[ 1.        0.49      0.18      0.2401    0.0882    0.0324    0.117649\n",
      "   0.043218  0.015876  0.005832]]\n"
     ]
    },
    {
     "name": "stderr",
     "output_type": "stream",
     "text": [
      "C:\\local\\Anaconda3-4.3.1-Windows-x86_64\\envs\\cntk-py35\\lib\\site-packages\\sklearn\\utils\\validation.py:395: DeprecationWarning: Passing 1d arrays as data is deprecated in 0.17 and will raise ValueError in 0.19. Reshape your data either using X.reshape(-1, 1) if your data has a single feature or X.reshape(1, -1) if it contains a single sample.\n",
      "  DeprecationWarning)\n",
      "C:\\local\\Anaconda3-4.3.1-Windows-x86_64\\envs\\cntk-py35\\lib\\site-packages\\sklearn\\utils\\validation.py:395: DeprecationWarning: Passing 1d arrays as data is deprecated in 0.17 and will raise ValueError in 0.19. Reshape your data either using X.reshape(-1, 1) if your data has a single feature or X.reshape(1, -1) if it contains a single sample.\n",
      "  DeprecationWarning)\n"
     ]
    }
   ],
   "source": [
    "poly = PolynomialFeatures(degree=3)\n",
    "\n",
    "X_ = poly.fit_transform(X)\n",
    "print(X_)\n",
    "print()\n",
    "\n",
    "predict_ = poly.fit_transform(predict)\n",
    "print(predict_)"
   ]
  },
  {
   "cell_type": "code",
   "execution_count": 4,
   "metadata": {},
   "outputs": [
    {
     "name": "stdout",
     "output_type": "stream",
     "text": [
      "[[ 0.44      0.68      0.1936    0.2992    0.4624    0.085184  0.131648\n",
      "   0.203456  0.314432]\n",
      " [ 0.99      0.23      0.9801    0.2277    0.0529    0.970299  0.225423\n",
      "   0.052371  0.012167]]\n",
      "\n",
      "[[ 0.49      0.18      0.2401    0.0882    0.0324    0.117649  0.043218\n",
      "   0.015876  0.005832]]\n"
     ]
    }
   ],
   "source": [
    "X_ = np.delete(X_,(0),axis=1)\n",
    "print(X_)\n",
    "print()\n",
    "\n",
    "predict_ = np.delete(predict_,(0),axis=1)\n",
    "print(predict_)"
   ]
  },
  {
   "cell_type": "code",
   "execution_count": 5,
   "metadata": {},
   "outputs": [
    {
     "data": {
      "text/plain": [
       "LinearRegression(copy_X=True, fit_intercept=True, n_jobs=1, normalize=False)"
      ]
     },
     "execution_count": 5,
     "metadata": {},
     "output_type": "execute_result"
    }
   ],
   "source": [
    "clf = linear_model.LinearRegression()\n",
    "clf.fit(X_, vector)"
   ]
  },
  {
   "cell_type": "code",
   "execution_count": 6,
   "metadata": {},
   "outputs": [
    {
     "name": "stdout",
     "output_type": "stream",
     "text": [
      "X_ =  [[ 0.44      0.68      0.1936    0.2992    0.4624    0.085184  0.131648\n",
      "   0.203456  0.314432]\n",
      " [ 0.99      0.23      0.9801    0.2277    0.0529    0.970299  0.225423\n",
      "   0.052371  0.012167]]\n",
      "predict_ =  [[ 0.49      0.18      0.2401    0.0882    0.0324    0.117649  0.043218\n",
      "   0.015876  0.005832]]\n",
      "Prediction =  [ 122.80859964]\n"
     ]
    }
   ],
   "source": [
    "print(\"X_ = \", X_)\n",
    "print(\"predict_ = \", predict_)\n",
    "print(\"Prediction = \", clf.predict(predict_))"
   ]
  },
  {
   "cell_type": "code",
   "execution_count": null,
   "metadata": {
    "collapsed": true
   },
   "outputs": [],
   "source": []
  }
 ],
 "metadata": {
  "kernelspec": {
   "display_name": "Python 3",
   "language": "python",
   "name": "python3"
  },
  "language_info": {
   "codemirror_mode": {
    "name": "ipython",
    "version": 3
   },
   "file_extension": ".py",
   "mimetype": "text/x-python",
   "name": "python",
   "nbconvert_exporter": "python",
   "pygments_lexer": "ipython3",
   "version": "3.5.2"
  }
 },
 "nbformat": 4,
 "nbformat_minor": 2
}
