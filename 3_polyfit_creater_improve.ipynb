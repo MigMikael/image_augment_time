{
 "cells": [
  {
   "cell_type": "code",
   "execution_count": 1,
   "metadata": {},
   "outputs": [],
   "source": [
    "train_path = \"./MotoC_iPad_plus_train_data_7.txt\"\n",
    "images_dir = \"./test/\"\n",
    "output_dir = \"./test_polyfit/\"\n",
    "#feature_dev = \"iPad\"\n",
    "\n",
    "sum_augment_time = 0"
   ]
  },
  {
   "cell_type": "markdown",
   "metadata": {},
   "source": [
    "# Import Some Packages"
   ]
  },
  {
   "cell_type": "code",
   "execution_count": 2,
   "metadata": {},
   "outputs": [],
   "source": [
    "from sklearn.preprocessing import PolynomialFeatures\n",
    "from sklearn import linear_model\n",
    "from PIL import Image\n",
    "import numpy as np\n",
    "import time\n",
    "import os"
   ]
  },
  {
   "cell_type": "markdown",
   "metadata": {},
   "source": [
    "# Calculate "
   ]
  },
  {
   "cell_type": "code",
   "execution_count": 3,
   "metadata": {},
   "outputs": [],
   "source": [
    "def loadTrainData(data_path):\n",
    "    input_X = []\n",
    "    vector = []\n",
    "    with open(data_path, \"r\") as data_file:\n",
    "        for line in data_file:\n",
    "            label, feature = line.split(\"|features \")\n",
    "            label = label.replace(\"|label \", \"\")\n",
    "            \n",
    "            f_r, f_g, f_b = feature.split(\" \")\n",
    "            input_X.append([int(f_r), int(f_g), int(f_b)])\n",
    "            \n",
    "            l_r, l_g, l_b, sp = label.split(\" \")\n",
    "            vector.append([int(l_r), int(l_g), int(l_b),])\n",
    "    return input_X, vector"
   ]
  },
  {
   "cell_type": "code",
   "execution_count": 4,
   "metadata": {},
   "outputs": [
    {
     "data": {
      "text/plain": [
       "LinearRegression(copy_X=True, fit_intercept=True, n_jobs=1, normalize=False)"
      ]
     },
     "execution_count": 4,
     "metadata": {},
     "output_type": "execute_result"
    }
   ],
   "source": [
    "input_X, vector = loadTrainData(train_path)\n",
    "poly = PolynomialFeatures(degree=3)\n",
    "\n",
    "X_ = poly.fit_transform(input_X)\n",
    "X_ = np.delete(X_,(0),axis=1)\n",
    "\n",
    "clf = linear_model.LinearRegression()\n",
    "clf.fit(X_, vector)"
   ]
  },
  {
   "cell_type": "markdown",
   "metadata": {},
   "source": [
    "# Augment"
   ]
  },
  {
   "cell_type": "code",
   "execution_count": 5,
   "metadata": {},
   "outputs": [],
   "source": [
    "def correct_range(pixel_value):\n",
    "    if pixel_value < 0:\n",
    "        pixel_value = 0\n",
    "        \n",
    "    if pixel_value > 255:\n",
    "        pixel_value = 255\n",
    "        \n",
    "    return pixel_value"
   ]
  },
  {
   "cell_type": "code",
   "execution_count": 6,
   "metadata": {},
   "outputs": [
    {
     "name": "stdout",
     "output_type": "stream",
     "text": [
      "Finish :  07488.png\n",
      "--- 0.027683258056640625 seconds ---\n",
      "Finish :  06838.png\n",
      "--- 0.011700868606567383 seconds ---\n",
      "Finish :  08225.png\n",
      "--- 0.01367497444152832 seconds ---\n",
      "Finish :  08242.png\n",
      "--- 0.011688947677612305 seconds ---\n",
      "Finish :  07599.png\n",
      "--- 0.011740922927856445 seconds ---\n",
      "Finish :  09381.png\n",
      "--- 0.010379791259765625 seconds ---\n",
      "Finish :  06846.png\n",
      "--- 0.01242685317993164 seconds ---\n",
      "Finish :  00607.png\n",
      "--- 0.022137165069580078 seconds ---\n",
      "Finish :  00660.png\n",
      "--- 0.011811971664428711 seconds ---\n",
      "Finish :  00288.png\n",
      "--- 0.010913848876953125 seconds ---\n",
      "Total Augment Time :   119.87458229064941\n",
      "Total Images Augmented :  10000\n",
      "Avg augmentation time per image = 0.011987458229064942 seconds\n"
     ]
    }
   ],
   "source": [
    "count = 0\n",
    "for filename in os.listdir(images_dir):\n",
    "    if filename.endswith(\".png\"):\n",
    "        start_time = time.time()\n",
    "        \n",
    "        image_path = images_dir + filename\n",
    "        output_image_name = output_dir + filename\n",
    "        \n",
    "        img = Image.open(image_path)\n",
    "        pixels = img.load()\n",
    "        \n",
    "        pixel_list = []\n",
    "        for i in range(img.size[0]):    \n",
    "            for j in range(img.size[1]):\n",
    "                pixel_list.append(img.getpixel((i,j)))\n",
    "        \n",
    "        pixel_set = set(pixel_list)\n",
    "        original_value = list(pixel_set)\n",
    "        \n",
    "        predict_ = poly.fit_transform(original_value)\n",
    "        predict_ = np.delete(predict_, (0), axis=1)\n",
    "        predicted = clf.predict(predict_)\n",
    "        predicted = [[int(round(x[0])), int(round(x[1])), int(round(x[2]))] for x in predicted]\n",
    "        \n",
    "        combined_dict = {}\n",
    "        i = 0\n",
    "        for e in original_value:\n",
    "            combined_dict[e] = predicted[i]\n",
    "            i += 1\n",
    "        \n",
    "        img = Image.open(image_path)\n",
    "        pixels = img.load()\n",
    "        for i in range(img.size[0]):    \n",
    "            for j in range(img.size[1]):\n",
    "                key = img.getpixel((i,j))\n",
    "                R = int(combined_dict[key][0])\n",
    "                G = int(combined_dict[key][1])\n",
    "                B = int(combined_dict[key][2])\n",
    "\n",
    "                R = correct_range(R)\n",
    "                G = correct_range(G)\n",
    "                B = correct_range(B)\n",
    "\n",
    "                pixels[i,j] = (R, G, B)\n",
    "                \n",
    "        aug_time = time.time() - start_time\n",
    "        sum_augment_time += aug_time   \n",
    "        \n",
    "        img.save(output_image_name)\n",
    "        \n",
    "        if count % 1000 == 0:\n",
    "            print(\"Finish : \", filename)\n",
    "            print(\"--- %s seconds ---\" % (aug_time))\n",
    "        count += 1\n",
    "        \n",
    "print(\"Total Augment Time :  \", sum_augment_time)\n",
    "print(\"Total Images Augmented : \", count)\n",
    "print(\"Avg augmentation time per image = %s seconds\" % str(sum_augment_time/count))"
   ]
  },
  {
   "cell_type": "code",
   "execution_count": null,
   "metadata": {},
   "outputs": [],
   "source": []
  }
 ],
 "metadata": {
  "kernelspec": {
   "display_name": "Python 3",
   "language": "python",
   "name": "python3"
  },
  "language_info": {
   "codemirror_mode": {
    "name": "ipython",
    "version": 3
   },
   "file_extension": ".py",
   "mimetype": "text/x-python",
   "name": "python",
   "nbconvert_exporter": "python",
   "pygments_lexer": "ipython3",
   "version": "3.6.5"
  }
 },
 "nbformat": 4,
 "nbformat_minor": 2
}
